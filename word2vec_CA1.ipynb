{
  "cells": [
    {
      "cell_type": "markdown",
      "metadata": {
        "id": "view-in-github",
        "colab_type": "text"
      },
      "source": [
        "<a href=\"https://colab.research.google.com/github/mamadoz79/NLP-CA/blob/main/word2vec_CA1.ipynb\" target=\"_parent\"><img src=\"https://colab.research.google.com/assets/colab-badge.svg\" alt=\"Open In Colab\"/></a>"
      ]
    },
    {
      "cell_type": "code",
      "execution_count": null,
      "metadata": {
        "colab": {
          "base_uri": "https://localhost:8080/"
        },
        "id": "yPl_YS5eVfnV",
        "outputId": "adc4e52e-1674-49c5-c9b2-3a0947033376"
      },
      "outputs": [
        {
          "name": "stdout",
          "output_type": "stream",
          "text": [
            "Collecting docx2txt\n",
            "  Downloading docx2txt-0.8.tar.gz (2.8 kB)\n",
            "Building wheels for collected packages: docx2txt\n",
            "  Building wheel for docx2txt (setup.py) ... \u001b[?25l\u001b[?25hdone\n",
            "  Created wheel for docx2txt: filename=docx2txt-0.8-py3-none-any.whl size=3980 sha256=e3cb1ee0602d1e502d40aa97384d127fb898659d83f34de5b9714f708d46663b\n",
            "  Stored in directory: /root/.cache/pip/wheels/b7/20/b2/473e3aea9a0c0d3e7b2f7bd81d06d0794fec12752733d1f3a8\n",
            "Successfully built docx2txt\n",
            "Installing collected packages: docx2txt\n",
            "Successfully installed docx2txt-0.8\n",
            "Collecting hazm\n",
            "  Downloading hazm-0.7.0-py3-none-any.whl (316 kB)\n",
            "\u001b[K     |████████████████████████████████| 316 kB 7.5 MB/s \n",
            "\u001b[?25hCollecting libwapiti>=0.2.1\n",
            "  Downloading libwapiti-0.2.1.tar.gz (233 kB)\n",
            "\u001b[K     |████████████████████████████████| 233 kB 56.7 MB/s \n",
            "\u001b[?25hCollecting nltk==3.3\n",
            "  Downloading nltk-3.3.0.zip (1.4 MB)\n",
            "\u001b[K     |████████████████████████████████| 1.4 MB 44.6 MB/s \n",
            "\u001b[?25hRequirement already satisfied: six in /usr/local/lib/python3.7/dist-packages (from nltk==3.3->hazm) (1.15.0)\n",
            "Building wheels for collected packages: nltk, libwapiti\n",
            "  Building wheel for nltk (setup.py) ... \u001b[?25l\u001b[?25hdone\n",
            "  Created wheel for nltk: filename=nltk-3.3-py3-none-any.whl size=1394487 sha256=df253a61552beef5c62962d179484429e8ec17738dae03f459738c501dfc4cdc\n",
            "  Stored in directory: /root/.cache/pip/wheels/9b/fd/0c/d92302c876e5de87ebd7fc0979d82edb93e2d8d768bf71fac4\n",
            "  Building wheel for libwapiti (setup.py) ... \u001b[?25l\u001b[?25hdone\n",
            "  Created wheel for libwapiti: filename=libwapiti-0.2.1-cp37-cp37m-linux_x86_64.whl size=154069 sha256=f7cbc709ae01f16ff7df4210b87092c301097b398ed8df8968ccbc630ac134b4\n",
            "  Stored in directory: /root/.cache/pip/wheels/ab/b2/5b/0fe4b8f5c0e65341e8ea7bb3f4a6ebabfe8b1ac31322392dbf\n",
            "Successfully built nltk libwapiti\n",
            "Installing collected packages: nltk, libwapiti, hazm\n",
            "  Attempting uninstall: nltk\n",
            "    Found existing installation: nltk 3.2.5\n",
            "    Uninstalling nltk-3.2.5:\n",
            "      Successfully uninstalled nltk-3.2.5\n",
            "Successfully installed hazm-0.7.0 libwapiti-0.2.1 nltk-3.3\n"
          ]
        }
      ],
      "source": [
        "!pip install docx2txt\n",
        "!pip install hazm"
      ]
    },
    {
      "cell_type": "code",
      "execution_count": null,
      "metadata": {
        "id": "tGRWcbssZE69"
      },
      "outputs": [],
      "source": [
        "from collections import defaultdict\n",
        "import docx2txt\n",
        "import re\n",
        "import numpy as np\n",
        "import hazm\n",
        "import re"
      ]
    },
    {
      "cell_type": "code",
      "execution_count": null,
      "metadata": {
        "id": "UJhTDiag7pCO"
      },
      "outputs": [],
      "source": [
        "text = docx2txt.process(\"/3.docx\")"
      ]
    },
    {
      "cell_type": "code",
      "execution_count": null,
      "metadata": {
        "id": "zvPxNRT-DoOx"
      },
      "outputs": [],
      "source": [
        "text = hazm.Normalizer().normalize(text)"
      ]
    },
    {
      "cell_type": "code",
      "execution_count": null,
      "metadata": {
        "id": "5dVkmiOSD0sv"
      },
      "outputs": [],
      "source": [
        "def clean_str(text):\n",
        "    C = [\"ئ\", \" \", \"ء\", \"ؤ\", \"لآ\", \"آ\", \"ر\", \"لا\", \"ى\", \"ة\", \"و\", \"ز\", \"ظ\", \"ش\", \"س\", \"ي\", \"ب\", \"ل\", \"ا\", \"لأ\", \"أ\",\n",
        "         \"لإ\", \"إ\", \"ت\", \"ن\", \"م\", \"ك\", \"ط\", \"ض\", \"ص\", \"ث\", \"ق\", \"ف\", \"غ\", \"ع\", \"ه\", \"خ\", \"ح\", \"ج\", \"د\", \"ذ\"]\n",
        "    rx = '[^' + re.escape(''.join(C)) + ']'\n",
        "    text = re.sub(rx, ' ', text)\n",
        "\n",
        "    p_tashkeel = re.compile(r'[\\u0617-\\u061A\\u064B-\\u0652]')\n",
        "    text = re.sub(p_tashkeel, \"\", text)\n",
        "\n",
        "    p_longation = re.compile(r'(.)\\1+')\n",
        "    subst = r\"\\1\\1\"\n",
        "    text = re.sub(p_longation, subst, text)\n",
        "\n",
        "    text = text.replace('وو', 'و')\n",
        "    text = text.replace('يي', 'ي')\n",
        "    text = text.replace('اا', 'ا')\n",
        "    text = text.strip()\n",
        "\n",
        "    return text"
      ]
    },
    {
      "cell_type": "code",
      "execution_count": null,
      "metadata": {
        "id": "P5kMNkyELq_u"
      },
      "outputs": [],
      "source": [
        "for i in text.split():\n",
        "    i = clean_str(i)"
      ]
    },
    {
      "cell_type": "code",
      "execution_count": null,
      "metadata": {
        "id": "gHTMhAQAOkiQ"
      },
      "outputs": [],
      "source": [
        "text = re.sub('[0-9۰-۹]+', ' ', text)\n",
        "text = re.sub('\\([0-9۰-۹]+\\)', ' ', text)\n",
        "text = re.sub('[\\\\n]+', ' ', text)\n",
        "text = re.sub('[ ]{2,}', ' ', text)"
      ]
    },
    {
      "cell_type": "code",
      "execution_count": null,
      "metadata": {
        "id": "t2Wut1RcO0_u"
      },
      "outputs": [],
      "source": [
        "d = defaultdict(int)\n",
        "for i in text.split():\n",
        "    d[i] += 1"
      ]
    },
    {
      "cell_type": "code",
      "execution_count": null,
      "metadata": {
        "id": "BxBzAFhhIKjE"
      },
      "outputs": [],
      "source": [
        "def word2onehot(word, v_count, word_index=d):\n",
        "    word_vec = [0 for i in range(0, v_count)]\n",
        "    word_index = word_index[word]\n",
        "    word_vec[word_index] = 1\n",
        "    return word_vec"
      ]
    },
    {
      "cell_type": "code",
      "execution_count": null,
      "metadata": {
        "id": "5c82ahHuPbHH"
      },
      "outputs": [],
      "source": [
        "res = word2onehot(d[1], len(d.items()))"
      ]
    },
    {
      "cell_type": "code",
      "execution_count": null,
      "metadata": {
        "id": "T0q4sB5FPgNh"
      },
      "outputs": [],
      "source": [
        "class word2vec():\n",
        "    def __init__ (self):\n",
        "        self.n = settings['n']\n",
        "        self.eta = settings['learning_rate']\n",
        "        self.epochs = settings['epochs']\n",
        "        self.window = settings['window_size']\n",
        "        pass\n",
        "    \n",
        "    \n",
        "    def generate_training_data(self, settings, corpus):\n",
        "\n",
        "        word_counts = defaultdict(int)\n",
        "        for row in corpus:\n",
        "            for word in row:\n",
        "                word_counts[word] += 1\n",
        "\n",
        "        self.v_count = len(word_counts.keys())\n",
        "\n",
        "        self.words_list = sorted(list(word_counts.keys()),reverse=False)\n",
        "        self.word_index = dict((word, i) for i, word in enumerate(self.words_list))\n",
        "        self.index_word = dict((i, word) for i, word in enumerate(self.words_list))\n",
        "\n",
        "        training_data = []\n",
        "        for sentence in corpus:\n",
        "            sent_len = len(sentence)\n",
        "\n",
        "            for i, word in enumerate(sentence):\n",
        "                \n",
        "                w_target = self.word2onehot(sentence[i])\n",
        "\n",
        "                w_context = []\n",
        "                for j in range(i-self.window, i+self.window+1):\n",
        "                    if j!=i and j<=sent_len-1 and j>=0:\n",
        "                        w_context.append(self.word2onehot(sentence[j]))\n",
        "                training_data.append([w_target, w_context])\n",
        "        return np.array(training_data)\n",
        "\n",
        "\n",
        "    def softmax(self, x):\n",
        "        e_x = np.exp(x - np.max(x))\n",
        "        return e_x / e_x.sum(axis=0)\n",
        "\n",
        "    def word2onehot(self, word):\n",
        "        word_vec = [0 for i in range(0, self.v_count)]\n",
        "        word_index = self.word_index[word]\n",
        "        word_vec[word_index] = 1\n",
        "        return word_vec\n",
        "\n",
        "    def forward_pass(self, x):\n",
        "        h = np.dot(self.w1.T, x)\n",
        "        u = np.dot(self.w2.T, h)\n",
        "        y_c = self.softmax(u)\n",
        "        return y_c, h, u\n",
        "                \n",
        "\n",
        "    def backprop(self, e, h, x):\n",
        "        dl_dw2 = np.outer(h, e)  \n",
        "        dl_dw1 = np.outer(x, np.dot(self.w2, e.T))\n",
        "\n",
        "        self.w1 = self.w1 - (self.eta * dl_dw1)\n",
        "        self.w2 = self.w2 - (self.eta * dl_dw2)\n",
        "        pass\n",
        "\n",
        "\n",
        "    def train(self, training_data):\n",
        "        self.w1 = np.random.uniform(-0.8, 0.8, (self.v_count, self.n))\n",
        "        self.w2 = np.random.uniform(-0.8, 0.8, (self.n, self.v_count))   \n",
        "        \n",
        "        for i in range(0, self.epochs):\n",
        "\n",
        "            self.loss = 0\n",
        "\n",
        "            for w_t, w_c in training_data:\n",
        "\n",
        "                y_pred, h, u = self.forward_pass(w_t)\n",
        "                EI = np.sum([np.subtract(y_pred, word) for word in w_c], axis=0)\n",
        "\n",
        "                self.backprop(EI, h, w_t)\n",
        "                self.loss += -np.sum([u[word.index(1)] for word in w_c]) + len(w_c) * np.log(np.sum(np.exp(u)))\n",
        "                \n",
        "            print ('EPOCH:',i, 'LOSS:', self.loss)\n",
        "        pass\n",
        "\n",
        "\n",
        "    def word_vec(self, word):\n",
        "        w_index = self.word_index[word]\n",
        "        v_w = self.w1[w_index]\n",
        "        return v_w\n",
        "\n",
        "\n",
        "    def vec_sim(self, vec, top_n):\n",
        "\n",
        "        word_sim = {}\n",
        "        for i in range(self.v_count):\n",
        "            v_w2 = self.w1[i]\n",
        "            theta_num = np.dot(vec, v_w2)\n",
        "            theta_den = np.linalg.norm(vec) * np.linalg.norm(v_w2)\n",
        "            theta = theta_num / theta_den\n",
        "\n",
        "            word = self.index_word[i]\n",
        "            word_sim[word] = theta\n",
        "\n",
        "        words_sorted = sorted(word_sim.items(), key=lambda word, sim :sim, reverse=True)\n",
        "\n",
        "        for word, sim in words_sorted[:top_n]:\n",
        "            print (word, sim)\n",
        "            \n",
        "        pass\n",
        "    def word_sim(self, word, top_n):\n",
        "        \n",
        "        w1_index = self.word_index[word]\n",
        "        v_w1 = self.w1[w1_index]\n",
        "\n",
        "        word_sim = {}\n",
        "        for i in range(self.v_count):\n",
        "            v_w2 = self.w1[i]\n",
        "            theta_num = np.dot(v_w1, v_w2)\n",
        "            theta_den = np.linalg.norm(v_w1) * np.linalg.norm(v_w2)\n",
        "            theta = theta_num / theta_den\n",
        "\n",
        "            word = self.index_word[i]\n",
        "            word_sim[word] = theta\n",
        "\n",
        "        words_sorted = sorted(word_sim.items(), key=lambda word, sim : sim, reverse=True)\n",
        "\n",
        "        for word, sim in words_sorted[:top_n]:\n",
        "            print (word, sim)\n",
        "            \n",
        "        pass"
      ]
    },
    {
      "cell_type": "code",
      "execution_count": null,
      "metadata": {
        "id": "qMdCynqLSZvs"
      },
      "outputs": [],
      "source": [
        "settings = {}\n",
        "settings['n'] = 5                   \n",
        "settings['window_size'] = 2       \n",
        "settings['min_count'] = 0          \n",
        "settings['epochs'] = 100         \n",
        "settings['neg_samp'] = 10           \n",
        "settings['learning_rate'] = 0.01    \n",
        "np.random.seed(0)                   \n",
        "\n",
        "w2v = word2vec()\n",
        "+c = [i.split() for i in text.split('.')]"
      ]
    }
  ],
  "metadata": {
    "colab": {
      "collapsed_sections": [],
      "name": "word2vec CA1.ipynb",
      "provenance": [],
      "authorship_tag": "ABX9TyPQc0eovnsWH6a5eI/8BK07",
      "include_colab_link": true
    },
    "kernelspec": {
      "display_name": "Python 3",
      "name": "python3"
    }
  },
  "nbformat": 4,
  "nbformat_minor": 0
}