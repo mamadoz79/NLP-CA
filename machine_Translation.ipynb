{
  "nbformat": 4,
  "nbformat_minor": 0,
  "metadata": {
    "colab": {
      "name": "machine Translation",
      "provenance": [],
      "collapsed_sections": [],
      "mount_file_id": "1kneUaQ5f4CculJfizNsDumyDg1yqnNc0",
      "authorship_tag": "ABX9TyNNLRW3inyl8A6WDZMwByu1",
      "include_colab_link": true
    },
    "kernelspec": {
      "name": "python3",
      "display_name": "Python 3"
    },
    "language_info": {
      "name": "python"
    },
    "accelerator": "GPU",
    "gpuClass": "standard"
  },
  "cells": [
    {
      "cell_type": "markdown",
      "metadata": {
        "id": "view-in-github",
        "colab_type": "text"
      },
      "source": [
        "<a href=\"https://colab.research.google.com/github/mamadoz79/NLP-CA/blob/main/machine_Translation.ipynb\" target=\"_parent\"><img src=\"https://colab.research.google.com/assets/colab-badge.svg\" alt=\"Open In Colab\"/></a>"
      ]
    },
    {
      "cell_type": "code",
      "execution_count": 1,
      "metadata": {
        "id": "mcjwtyGH6hp7"
      },
      "outputs": [],
      "source": [
        "from keras.models import Model\n",
        "from keras.layers import Input, LSTM, Dense, Bidirectional\n",
        "import numpy as np\n",
        "import string\n",
        "import random\n",
        "import re"
      ]
    },
    {
      "cell_type": "code",
      "source": [
        "batch_size = 256\n",
        "epochs = 10\n",
        "latent_dim = 256"
      ],
      "metadata": {
        "id": "YRMJm3H76lol"
      },
      "execution_count": 2,
      "outputs": []
    },
    {
      "cell_type": "code",
      "source": [
        "en = open(\"/content/drive/MyDrive/NLP/TEP.en-fa.en\", encoding='utf-8')\n",
        "fa = open(\"/content/drive/MyDrive/NLP/TEP.en-fa.fa\", encoding='utf-8')"
      ],
      "metadata": {
        "id": "4Y9Qwud7-Up8"
      },
      "execution_count": 3,
      "outputs": []
    },
    {
      "cell_type": "code",
      "source": [
        "strp = lambda seq : re.sub(\" +\", \" \", ' '.join(word.strip(string.punctuation) for word in seq.split()))"
      ],
      "metadata": {
        "id": "x0IqkE-RH15p"
      },
      "execution_count": 4,
      "outputs": []
    },
    {
      "cell_type": "code",
      "source": [
        "lines = [[strp(e[:-2]), strp(f[:-2])] for (e, f) in zip(en, fa)]"
      ],
      "metadata": {
        "id": "6vAJ45are_TM"
      },
      "execution_count": 5,
      "outputs": []
    },
    {
      "cell_type": "code",
      "source": [
        "input_texts = []\n",
        "target_texts = []\n",
        "input_characters = set()\n",
        "target_characters = set()\n",
        "for line in lines[:30000]:\n",
        "    input_text, target_text = line\n",
        "    target_text = '\\t' + target_text + '\\n'\n",
        "    input_texts.append(input_text)\n",
        "    target_texts.append(target_text)\n",
        "    for char in input_text:\n",
        "        if char not in input_characters:\n",
        "            input_characters.add(char)\n",
        "    for char in target_text:\n",
        "        if char not in target_characters:\n",
        "            target_characters.add(char)"
      ],
      "metadata": {
        "id": "-M1MrTOjmDB3"
      },
      "execution_count": 6,
      "outputs": []
    },
    {
      "cell_type": "code",
      "source": [
        "del lines"
      ],
      "metadata": {
        "id": "UpGRaDIpvAZa"
      },
      "execution_count": 7,
      "outputs": []
    },
    {
      "cell_type": "code",
      "source": [
        "input_characters = sorted(list(input_characters))\n",
        "target_characters = sorted(list(target_characters))\n",
        "num_encoder_tokens = len(input_characters)\n",
        "num_decoder_tokens = len(target_characters)\n",
        "max_encoder_seq_length = max([len(txt) for txt in input_texts])\n",
        "max_decoder_seq_length = max([len(txt) for txt in target_texts])"
      ],
      "metadata": {
        "id": "IS6n55oUmW73"
      },
      "execution_count": 8,
      "outputs": []
    },
    {
      "cell_type": "code",
      "source": [
        "print('Number of samples:', len(input_texts))\n",
        "print('Number of unique input tokens:', num_encoder_tokens)\n",
        "print('Number of unique output tokens:', num_decoder_tokens)\n",
        "print('Max sequence length for inputs:', max_encoder_seq_length)\n",
        "print('Max sequence length for outputs:', max_decoder_seq_length)"
      ],
      "metadata": {
        "colab": {
          "base_uri": "https://localhost:8080/"
        },
        "id": "8tQ1zUeCmpSZ",
        "outputId": "e12e84e8-532e-4bfe-fc6d-828e211aff9e"
      },
      "execution_count": 9,
      "outputs": [
        {
          "output_type": "stream",
          "name": "stdout",
          "text": [
            "Number of samples: 10000\n",
            "Number of unique input tokens: 43\n",
            "Number of unique output tokens: 86\n",
            "Max sequence length for inputs: 154\n",
            "Max sequence length for outputs: 140\n"
          ]
        }
      ]
    },
    {
      "cell_type": "code",
      "source": [
        "input_token_index = dict(\n",
        "    [(char, i) for i, char in enumerate(input_characters)])\n",
        "target_token_index = dict(\n",
        "    [(char, i) for i, char in enumerate(target_characters)])"
      ],
      "metadata": {
        "id": "vaWmBHhQmtpu"
      },
      "execution_count": 10,
      "outputs": []
    },
    {
      "cell_type": "code",
      "source": [
        "encoder_input_data = np.zeros(\n",
        "    (len(input_texts), max_encoder_seq_length, num_encoder_tokens),\n",
        "    dtype='float32')\n",
        "decoder_input_data = np.zeros(\n",
        "    (len(input_texts), max_decoder_seq_length, num_decoder_tokens),\n",
        "    dtype='float32')\n",
        "decoder_target_data = np.zeros(\n",
        "    (len(input_texts), max_decoder_seq_length, num_decoder_tokens),\n",
        "    dtype='float32')"
      ],
      "metadata": {
        "id": "VYSqX5P9swvZ"
      },
      "execution_count": 11,
      "outputs": []
    },
    {
      "cell_type": "code",
      "source": [
        "for i, (input_text, target_text) in enumerate(zip(input_texts, target_texts)):\n",
        "    for t, char in enumerate(input_text):\n",
        "        encoder_input_data[i, t, input_token_index[char]] = 1.\n",
        "    encoder_input_data[i, t + 1:, input_token_index[' ']] = 1.\n",
        "    for t, char in enumerate(target_text):\n",
        "        decoder_input_data[i, t, target_token_index[char]] = 1.\n",
        "        if t > 0:\n",
        "            decoder_target_data[i, t - 1, target_token_index[char]] = 1.\n",
        "    decoder_input_data[i, t + 1:, target_token_index[' ']] = 1.\n",
        "    decoder_target_data[i, t:, target_token_index[' ']] = 1."
      ],
      "metadata": {
        "id": "odPT5fyzm5L0"
      },
      "execution_count": 12,
      "outputs": []
    },
    {
      "cell_type": "code",
      "source": [
        "encoder_inputs = Input(shape=(None, num_encoder_tokens))\n",
        "encoder = LSTM(latent_dim, return_state=True)\n",
        "encoder_outputs, state_h, state_c = encoder(encoder_inputs)\n",
        "encoder_states = [state_h, state_c]\n",
        "decoder_inputs = Input(shape=(None, num_decoder_tokens))\n",
        "decoder_lstm = LSTM(latent_dim, return_sequences=True, return_state=True)\n",
        "decoder_outputs, _, _ = decoder_lstm(decoder_inputs,initial_state=encoder_states)\n",
        "decoder_dense = Dense(num_decoder_tokens, activation='softmax')\n",
        "decoder_outputs = decoder_dense(decoder_outputs)"
      ],
      "metadata": {
        "id": "Y4iCjMjsm8Qh"
      },
      "execution_count": 13,
      "outputs": []
    },
    {
      "cell_type": "code",
      "source": [
        "model = Model([encoder_inputs, decoder_inputs], decoder_outputs)"
      ],
      "metadata": {
        "id": "W3GgMymEm92e"
      },
      "execution_count": 14,
      "outputs": []
    },
    {
      "cell_type": "code",
      "source": [
        "model.compile(optimizer='rmsprop', loss='categorical_crossentropy',metrics=['accuracy'])"
      ],
      "metadata": {
        "id": "0gRBcSonm_0u"
      },
      "execution_count": 15,
      "outputs": []
    },
    {
      "cell_type": "code",
      "source": [
        "model.summary()"
      ],
      "metadata": {
        "colab": {
          "base_uri": "https://localhost:8080/"
        },
        "id": "x_BXvHq8nBLR",
        "outputId": "f1607238-f1dd-4ae0-d88c-e7fd73990c1a"
      },
      "execution_count": 16,
      "outputs": [
        {
          "output_type": "stream",
          "name": "stdout",
          "text": [
            "Model: \"model\"\n",
            "__________________________________________________________________________________________________\n",
            " Layer (type)                   Output Shape         Param #     Connected to                     \n",
            "==================================================================================================\n",
            " input_1 (InputLayer)           [(None, None, 43)]   0           []                               \n",
            "                                                                                                  \n",
            " input_2 (InputLayer)           [(None, None, 86)]   0           []                               \n",
            "                                                                                                  \n",
            " lstm (LSTM)                    [(None, 256),        307200      ['input_1[0][0]']                \n",
            "                                 (None, 256),                                                     \n",
            "                                 (None, 256)]                                                     \n",
            "                                                                                                  \n",
            " lstm_1 (LSTM)                  [(None, None, 256),  351232      ['input_2[0][0]',                \n",
            "                                 (None, 256),                     'lstm[0][1]',                   \n",
            "                                 (None, 256)]                     'lstm[0][2]']                   \n",
            "                                                                                                  \n",
            " dense (Dense)                  (None, None, 86)     22102       ['lstm_1[0][0]']                 \n",
            "                                                                                                  \n",
            "==================================================================================================\n",
            "Total params: 680,534\n",
            "Trainable params: 680,534\n",
            "Non-trainable params: 0\n",
            "__________________________________________________________________________________________________\n"
          ]
        }
      ]
    },
    {
      "cell_type": "code",
      "source": [
        "model.fit([encoder_input_data, decoder_input_data], decoder_target_data,batch_size=64, epochs=100)"
      ],
      "metadata": {
        "colab": {
          "base_uri": "https://localhost:8080/"
        },
        "id": "ZtUZBngAnDrg",
        "outputId": "37d81d97-fd7b-4768-b1e6-567861f30a80"
      },
      "execution_count": null,
      "outputs": [
        {
          "output_type": "stream",
          "name": "stdout",
          "text": [
            "Epoch 1/100\n",
            "157/157 [==============================] - 5s 30ms/step - loss: 0.4667 - accuracy: 0.8656\n",
            "Epoch 2/100\n",
            "157/157 [==============================] - 5s 29ms/step - loss: 0.4565 - accuracy: 0.8684\n",
            "Epoch 3/100\n",
            "157/157 [==============================] - 5s 29ms/step - loss: 0.4475 - accuracy: 0.8709\n",
            "Epoch 4/100\n",
            "157/157 [==============================] - 5s 29ms/step - loss: 0.4389 - accuracy: 0.8733\n",
            "Epoch 5/100\n",
            "157/157 [==============================] - 5s 29ms/step - loss: 0.4316 - accuracy: 0.8753\n",
            "Epoch 6/100\n",
            "157/157 [==============================] - 5s 29ms/step - loss: 0.4243 - accuracy: 0.8775\n",
            "Epoch 7/100\n",
            "157/157 [==============================] - 5s 29ms/step - loss: 0.4177 - accuracy: 0.8792\n",
            "Epoch 8/100\n",
            "157/157 [==============================] - 5s 29ms/step - loss: 0.4116 - accuracy: 0.8808\n",
            "Epoch 9/100\n",
            "157/157 [==============================] - 5s 29ms/step - loss: 0.4058 - accuracy: 0.8825\n",
            "Epoch 10/100\n",
            "157/157 [==============================] - 5s 29ms/step - loss: 0.4002 - accuracy: 0.8840\n",
            "Epoch 11/100\n",
            "157/157 [==============================] - 5s 29ms/step - loss: 0.3950 - accuracy: 0.8853\n",
            "Epoch 12/100\n",
            "157/157 [==============================] - 5s 29ms/step - loss: 0.3900 - accuracy: 0.8867\n",
            "Epoch 13/100\n",
            "157/157 [==============================] - 5s 29ms/step - loss: 0.3854 - accuracy: 0.8880\n",
            "Epoch 14/100\n",
            "157/157 [==============================] - 5s 29ms/step - loss: 0.3808 - accuracy: 0.8890\n",
            "Epoch 15/100\n",
            "157/157 [==============================] - 5s 29ms/step - loss: 0.3763 - accuracy: 0.8904\n",
            "Epoch 16/100\n",
            "157/157 [==============================] - 5s 29ms/step - loss: 0.3717 - accuracy: 0.8918\n",
            "Epoch 17/100\n",
            "157/157 [==============================] - 5s 29ms/step - loss: 0.3666 - accuracy: 0.8934\n",
            "Epoch 18/100\n",
            "157/157 [==============================] - 5s 29ms/step - loss: 0.3623 - accuracy: 0.8946\n",
            "Epoch 19/100\n",
            "157/157 [==============================] - 5s 29ms/step - loss: 0.3580 - accuracy: 0.8959\n",
            "Epoch 20/100\n",
            "157/157 [==============================] - 5s 29ms/step - loss: 0.3540 - accuracy: 0.8968\n",
            "Epoch 21/100\n",
            "157/157 [==============================] - 5s 30ms/step - loss: 0.3500 - accuracy: 0.8979\n",
            "Epoch 22/100\n",
            "157/157 [==============================] - 5s 30ms/step - loss: 0.3463 - accuracy: 0.8990\n",
            "Epoch 23/100\n",
            "157/157 [==============================] - 5s 30ms/step - loss: 0.3427 - accuracy: 0.9000\n",
            "Epoch 24/100\n",
            "157/157 [==============================] - 5s 30ms/step - loss: 0.3390 - accuracy: 0.9010\n",
            "Epoch 25/100\n",
            "157/157 [==============================] - 5s 30ms/step - loss: 0.3357 - accuracy: 0.9019\n",
            "Epoch 26/100\n",
            "157/157 [==============================] - 5s 30ms/step - loss: 0.3323 - accuracy: 0.9028\n",
            "Epoch 27/100\n",
            "157/157 [==============================] - 5s 30ms/step - loss: 0.3288 - accuracy: 0.9038\n",
            "Epoch 28/100\n",
            "157/157 [==============================] - 5s 30ms/step - loss: 0.3255 - accuracy: 0.9047\n",
            "Epoch 29/100\n",
            "157/157 [==============================] - 5s 30ms/step - loss: 0.3222 - accuracy: 0.9058\n",
            "Epoch 30/100\n",
            "157/157 [==============================] - 5s 29ms/step - loss: 0.3191 - accuracy: 0.9067\n",
            "Epoch 31/100\n",
            "157/157 [==============================] - 5s 29ms/step - loss: 0.3161 - accuracy: 0.9074\n",
            "Epoch 32/100\n",
            "157/157 [==============================] - 5s 29ms/step - loss: 0.3131 - accuracy: 0.9084\n",
            "Epoch 33/100\n",
            "157/157 [==============================] - 5s 29ms/step - loss: 0.3101 - accuracy: 0.9092\n",
            "Epoch 34/100\n",
            "157/157 [==============================] - 5s 30ms/step - loss: 0.3071 - accuracy: 0.9100\n",
            "Epoch 35/100\n",
            "157/157 [==============================] - 5s 29ms/step - loss: 0.3043 - accuracy: 0.9109\n",
            "Epoch 36/100\n",
            "157/157 [==============================] - 5s 29ms/step - loss: 0.3015 - accuracy: 0.9116\n",
            "Epoch 37/100\n",
            "157/157 [==============================] - 5s 29ms/step - loss: 0.2987 - accuracy: 0.9125\n",
            "Epoch 38/100\n",
            "157/157 [==============================] - 5s 29ms/step - loss: 0.2959 - accuracy: 0.9132\n",
            "Epoch 39/100\n",
            "157/157 [==============================] - 5s 29ms/step - loss: 0.2933 - accuracy: 0.9141\n",
            "Epoch 40/100\n",
            "157/157 [==============================] - 5s 29ms/step - loss: 0.2907 - accuracy: 0.9149\n",
            "Epoch 41/100\n",
            "157/157 [==============================] - 5s 29ms/step - loss: 0.2881 - accuracy: 0.9157\n",
            "Epoch 42/100\n",
            "157/157 [==============================] - 5s 29ms/step - loss: 0.2857 - accuracy: 0.9163\n",
            "Epoch 43/100\n",
            "157/157 [==============================] - 5s 29ms/step - loss: 0.2833 - accuracy: 0.9171\n",
            "Epoch 44/100\n",
            "157/157 [==============================] - 5s 29ms/step - loss: 0.2814 - accuracy: 0.9177\n",
            "Epoch 45/100\n",
            "157/157 [==============================] - 5s 29ms/step - loss: 0.2786 - accuracy: 0.9184\n",
            "Epoch 46/100\n",
            "157/157 [==============================] - 5s 29ms/step - loss: 0.2769 - accuracy: 0.9190\n",
            "Epoch 47/100\n",
            "157/157 [==============================] - 5s 29ms/step - loss: 0.2748 - accuracy: 0.9195\n",
            "Epoch 48/100\n",
            "157/157 [==============================] - 5s 29ms/step - loss: 0.2727 - accuracy: 0.9201\n",
            "Epoch 49/100\n",
            "157/157 [==============================] - 5s 29ms/step - loss: 0.2707 - accuracy: 0.9207\n",
            "Epoch 50/100\n",
            "157/157 [==============================] - 5s 29ms/step - loss: 0.2686 - accuracy: 0.9213\n",
            "Epoch 51/100\n",
            "157/157 [==============================] - 5s 29ms/step - loss: 0.2668 - accuracy: 0.9220\n",
            "Epoch 52/100\n",
            "157/157 [==============================] - 5s 29ms/step - loss: 0.2650 - accuracy: 0.9223\n",
            "Epoch 53/100\n",
            "157/157 [==============================] - 5s 29ms/step - loss: 0.2629 - accuracy: 0.9230\n",
            "Epoch 54/100\n",
            "157/157 [==============================] - 5s 29ms/step - loss: 0.2612 - accuracy: 0.9234\n",
            "Epoch 55/100\n",
            "157/157 [==============================] - 5s 29ms/step - loss: 0.2596 - accuracy: 0.9240\n",
            "Epoch 56/100\n",
            "157/157 [==============================] - 5s 29ms/step - loss: 0.2581 - accuracy: 0.9244\n",
            "Epoch 57/100\n",
            "157/157 [==============================] - 5s 29ms/step - loss: 0.2561 - accuracy: 0.9249\n",
            "Epoch 58/100\n",
            "157/157 [==============================] - 5s 29ms/step - loss: 0.2546 - accuracy: 0.9254\n",
            "Epoch 59/100\n",
            "157/157 [==============================] - 5s 29ms/step - loss: 0.2530 - accuracy: 0.9259\n",
            "Epoch 60/100\n",
            "157/157 [==============================] - 5s 29ms/step - loss: 0.2517 - accuracy: 0.9262\n",
            "Epoch 61/100\n",
            "157/157 [==============================] - 5s 29ms/step - loss: 0.2503 - accuracy: 0.9267\n",
            "Epoch 62/100\n",
            "157/157 [==============================] - 5s 29ms/step - loss: 0.2488 - accuracy: 0.9270\n",
            "Epoch 63/100\n",
            "157/157 [==============================] - 5s 29ms/step - loss: 0.2477 - accuracy: 0.9274\n",
            "Epoch 64/100\n",
            "157/157 [==============================] - 5s 30ms/step - loss: 0.2458 - accuracy: 0.9280\n",
            "Epoch 65/100\n",
            "157/157 [==============================] - 5s 30ms/step - loss: 0.2447 - accuracy: 0.9283\n",
            "Epoch 66/100\n",
            "157/157 [==============================] - 5s 30ms/step - loss: 0.2435 - accuracy: 0.9286\n",
            "Epoch 67/100\n",
            "157/157 [==============================] - 5s 30ms/step - loss: 0.2421 - accuracy: 0.9290\n",
            "Epoch 68/100\n",
            "157/157 [==============================] - 5s 30ms/step - loss: 0.2411 - accuracy: 0.9293\n",
            "Epoch 69/100\n",
            "157/157 [==============================] - 5s 29ms/step - loss: 0.2396 - accuracy: 0.9297\n",
            "Epoch 70/100\n",
            "157/157 [==============================] - 5s 29ms/step - loss: 0.2383 - accuracy: 0.9301\n",
            "Epoch 71/100\n",
            "157/157 [==============================] - 5s 30ms/step - loss: 0.2375 - accuracy: 0.9303\n",
            "Epoch 72/100\n",
            "157/157 [==============================] - 5s 29ms/step - loss: 0.2363 - accuracy: 0.9306\n",
            "Epoch 73/100\n",
            "157/157 [==============================] - 5s 29ms/step - loss: 0.2357 - accuracy: 0.9307\n",
            "Epoch 74/100\n",
            "157/157 [==============================] - 5s 29ms/step - loss: 0.2344 - accuracy: 0.9310\n",
            "Epoch 75/100\n",
            "157/157 [==============================] - 5s 29ms/step - loss: 0.2334 - accuracy: 0.9315\n",
            "Epoch 76/100\n",
            "157/157 [==============================] - 5s 29ms/step - loss: 0.2322 - accuracy: 0.9319\n",
            "Epoch 77/100\n",
            "157/157 [==============================] - 5s 29ms/step - loss: 0.2312 - accuracy: 0.9322\n",
            "Epoch 78/100\n",
            "157/157 [==============================] - 5s 29ms/step - loss: 0.2304 - accuracy: 0.9324\n",
            "Epoch 79/100\n",
            "157/157 [==============================] - 5s 29ms/step - loss: 0.2297 - accuracy: 0.9324\n",
            "Epoch 80/100\n",
            "157/157 [==============================] - 5s 29ms/step - loss: 0.2289 - accuracy: 0.9327\n",
            "Epoch 81/100\n",
            "157/157 [==============================] - 5s 29ms/step - loss: 0.2276 - accuracy: 0.9331\n",
            "Epoch 82/100\n",
            "157/157 [==============================] - 5s 29ms/step - loss: 0.2269 - accuracy: 0.9333\n",
            "Epoch 83/100\n",
            "157/157 [==============================] - 5s 30ms/step - loss: 0.2406 - accuracy: 0.9294\n",
            "Epoch 84/100\n",
            "157/157 [==============================] - 5s 30ms/step - loss: 0.2306 - accuracy: 0.9320\n",
            "Epoch 85/100\n",
            "157/157 [==============================] - 5s 30ms/step - loss: 0.2254 - accuracy: 0.9337\n",
            "Epoch 86/100\n",
            "157/157 [==============================] - 5s 29ms/step - loss: 0.2247 - accuracy: 0.9340\n",
            "Epoch 87/100\n",
            "157/157 [==============================] - 5s 29ms/step - loss: 0.2238 - accuracy: 0.9341\n",
            "Epoch 88/100\n",
            "157/157 [==============================] - 5s 29ms/step - loss: 0.2229 - accuracy: 0.9344\n",
            "Epoch 89/100\n",
            "121/157 [======================>.......] - ETA: 1s - loss: 0.2212 - accuracy: 0.9350"
          ]
        }
      ]
    },
    {
      "cell_type": "code",
      "source": [
        "model.save('MODEL2.h5')"
      ],
      "metadata": {
        "id": "fa80v775vDxD"
      },
      "execution_count": 18,
      "outputs": []
    },
    {
      "cell_type": "code",
      "source": [
        "!cp -r \"/content/MODEL2.h5\" \"/content/drive/MyDrive/NLP/MODEL2.h5\""
      ],
      "metadata": {
        "id": "rxazCyZTvxg7"
      },
      "execution_count": 19,
      "outputs": []
    },
    {
      "cell_type": "code",
      "source": [
        "encoder_model = Model(encoder_inputs, encoder_states)\n",
        "\n",
        "decoder_state_input_h = Input(shape=(latent_dim,))\n",
        "decoder_state_input_c = Input(shape=(latent_dim,))\n",
        "decoder_states_inputs = [decoder_state_input_h, decoder_state_input_c]\n",
        "decoder_outputs, state_h, state_c = decoder_lstm(decoder_inputs, initial_state=decoder_states_inputs)\n",
        "decoder_states = [state_h, state_c]\n",
        "decoder_outputs = decoder_dense(decoder_outputs)\n",
        "decoder_model = Model([decoder_inputs] + decoder_states_inputs,[decoder_outputs] + decoder_states)"
      ],
      "metadata": {
        "id": "x6xal_eIvz6y"
      },
      "execution_count": 20,
      "outputs": []
    },
    {
      "cell_type": "code",
      "source": [
        "reverse_input_char_index = dict((i, char) for char, i in input_token_index.items())\n",
        "reverse_target_char_index = dict((i, char) for char, i in target_token_index.items())"
      ],
      "metadata": {
        "id": "0SzNj2cGwGne"
      },
      "execution_count": 21,
      "outputs": []
    },
    {
      "cell_type": "code",
      "source": [
        "def decode_sequence(input_seq):\n",
        "    states_value = encoder_model.predict(input_seq)\n",
        "    target_seq = np.zeros((1, 1, num_decoder_tokens))\n",
        "    target_seq[0, 0, target_token_index['\\t']] = 1.\n",
        "    stop_condition = False\n",
        "    decoded_sentence = ''\n",
        "    while not stop_condition:\n",
        "        output_tokens, h, c = decoder_model.predict(\n",
        "            [target_seq] + states_value)\n",
        "        sampled_token_index = np.argmax(output_tokens[0, -1, :])\n",
        "        sampled_char = reverse_target_char_index[sampled_token_index]\n",
        "        decoded_sentence += sampled_char\n",
        "        if (sampled_char == '\\n' or\n",
        "           len(decoded_sentence) > max_decoder_seq_length):\n",
        "            stop_condition = True\n",
        "        target_seq = np.zeros((1, 1, num_decoder_tokens))\n",
        "        target_seq[0, 0, sampled_token_index] = 1.\n",
        "        states_value = [h, c]\n",
        "    return decoded_sentence"
      ],
      "metadata": {
        "id": "yTt7izh7wIgn"
      },
      "execution_count": 22,
      "outputs": []
    }
  ]
}